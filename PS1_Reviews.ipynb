{
  "nbformat": 4,
  "nbformat_minor": 0,
  "metadata": {
    "colab": {
      "name": "PS1-Reviews.ipynb",
      "provenance": [],
      "collapsed_sections": [],
      "include_colab_link": true
    },
    "kernelspec": {
      "name": "python3",
      "display_name": "Python 3"
    }
  },
  "cells": [
    {
      "cell_type": "markdown",
      "metadata": {
        "id": "view-in-github",
        "colab_type": "text"
      },
      "source": [
        "<a href=\"https://colab.research.google.com/github/Matthew-Fu/python-random-quote/blob/master/PS1_Reviews.ipynb\" target=\"_parent\"><img src=\"https://colab.research.google.com/assets/colab-badge.svg\" alt=\"Open In Colab\"/></a>"
      ]
    },
    {
      "cell_type": "markdown",
      "metadata": {
        "id": "Jc2R3x6QSIFi"
      },
      "source": [
        "In this experiment, you will explore the accuracy of sentiment classificaiton using different feature representations of text documents.\n",
        "\n",
        "First, you will implement `createBasicFeatures`, which creates a sparse matrix representation of a collection of documents. For this exercise, you should have a feature for each word containing at least one alphabetic character. You may use the `numpy` and `sklearn` packages to help with implementing a sparse matrix.\n",
        "\n",
        "Then, you will implement `createFancyFeatures`, which can specify at any other features you choose to help improve performance on the classification task.\n",
        "\n",
        "The two code blocks at the end train and evaluate two models—logistic regression with L1 and L2 regularization—using your featurization functions. Besides held-out classification accuracy with 10-fold cross-validation, you will also see the features in each class given high weights by the model.\n",
        "\n",
        "A helpful resource for getting up to speed with vector representations of documents is the first two chapters of Delip Rao and Brian McMahan, _Natural Language Processing with PyTorch_, O'Reilly, 2019.  You should be able to <a href=\"https://learning.oreilly.com/library/view/natural-language-processing/9781491978221/\">read it online</a> via the Northeastern Library's subscription using a <tt>northeastern.edu</tt> email address."
      ]
    },
    {
      "cell_type": "code",
      "metadata": {
        "id": "AdVS67_HNRmW"
      },
      "source": [
        "import json\n",
        "import requests\n",
        "from sklearn.linear_model import LogisticRegression\n",
        "from sklearn.model_selection import cross_validate,LeaveOneOut,KFold\n",
        "import numpy as np"
      ],
      "execution_count": null,
      "outputs": []
    },
    {
      "cell_type": "code",
      "metadata": {
        "id": "PzjMY8fYQbB6",
        "cellView": "both"
      },
      "source": [
        "# read in the movie review corpus\n",
        "def readReviews():\n",
        "  raw = requests.get(\"https://raw.githubusercontent.com/mutherr/CS6120-PS1-data/master/cornell_reviews.json\").text.strip()\n",
        "  corpus = [json.loads(line) for line in raw.split(\"\\n\")]\n",
        "\n",
        "  return corpus"
      ],
      "execution_count": null,
      "outputs": []
    },
    {
      "cell_type": "markdown",
      "metadata": {
        "id": "Qvd3I95FT01D"
      },
      "source": [
        "This is where you will implement two functions to featurize the data."
      ]
    },
    {
      "cell_type": "code",
      "metadata": {
        "id": "039fPQcF7OkN"
      },
      "source": [
        "# NB: The current contents are for testing only\n",
        "# This function should return: \n",
        "#  -a sparse numpy matrix of document features\n",
        "#  -a list of the correct class for each document\n",
        "#  -a list of the vocabulary used by the features, such that the ith term of the\n",
        "#    list is the word whose counts appear in the ith column of the matrix. \n",
        "\n",
        "# This function should create a feature representation using all tokens that\n",
        "# contain an alphabetic character.\n",
        "def createBasicFeatures(corpus):\n",
        "  #Your code here\n",
        "  classes = []\n",
        "  raw_text = []\n",
        "  for cor in corpus:\n",
        "    classes.append(cor[\"class\"])\n",
        "    raw_text.append(cor[\"text\"])\n",
        "  one_hot_vectorizer = CountVectorizer(binary=True)\n",
        "  texts = one_hot_vectorizer.fit_transform(raw_text)\n",
        "  #text = u\" \".join(raw_text)\n",
        "  #tokenizer = TweetTokenizer()\n",
        "  #vocab = tokenizer.tokenize(text.lower())\n",
        "  vocab = one_hot_vectorizer.get_feature_names()\n",
        "  return texts,classes,vocab\n",
        "\n",
        "# This function can add other features you want that help classification\n",
        "# accuracy, such as bigrams, word prefixes and suffixes, etc.\n",
        "def createFancyFeatures(corpus):\n",
        "  #Your code here\n",
        "  classes = []\n",
        "  raw_text = []\n",
        "  for cor in corpus:\n",
        "    classes.append(cor[\"class\"])\n",
        "    raw_text.append(cor[\"text\"])\n",
        "  one_hot_vectorizer = CountVectorizer(binary=True, ngram_range=(1, 2))\n",
        "  texts = one_hot_vectorizer.fit_transform(raw_text)\n",
        "  #text = u\" \".join(raw_text)\n",
        "  #tokenizer = TweetTokenizer()\n",
        "  #vocab = tokenizer.tokenize(text.lower())\n",
        "  vocab = one_hot_vectorizer.get_feature_names()\n",
        "  return texts,classes,vocab"
      ],
      "execution_count": null,
      "outputs": []
    },
    {
      "cell_type": "code",
      "metadata": {
        "id": "KfTBqBltXe7Y"
      },
      "source": [
        "# given a numpy matrix representation of the features for the training set, the \n",
        "# vector of true classes for each example, and the vocabulary as described \n",
        "# above, this computes the accuracy of the model using leave one out cross \n",
        "# validation and reports the most indicative features for each class\n",
        "\n",
        "def evaluateModel(X,y,vocab,penalty=\"l1\"):\n",
        "  # create and fit the model\n",
        "  model = LogisticRegression(penalty=penalty,solver=\"liblinear\")\n",
        "  results = cross_validate(model,X,y,cv=KFold(n_splits=10, shuffle=True, random_state=1))\n",
        "  \n",
        "  # determine the average accuracy\n",
        "  scores = results[\"test_score\"]\n",
        "  avg_score = sum(scores)/len(scores)\n",
        "  \n",
        "  # determine the most informative features\n",
        "  # this requires us to fit the model to everything, because we need a\n",
        "  # single model to draw coefficients from, rather than 26\n",
        "  model.fit(X,y)\n",
        "  class0_weight_sorted = model.coef_[0, :].argsort()\n",
        "  class1_weight_sorted = (-model.coef_[0, :]).argsort()\n",
        "\n",
        "  termsToTake = 20\n",
        "  class0_indicators = [vocab[i] for i in class0_weight_sorted[:termsToTake]]\n",
        "  class1_indicators = [vocab[i] for i in class1_weight_sorted[:termsToTake]]\n",
        "\n",
        "  if model.classes_[0] == \"pos\":\n",
        "    return avg_score,class0_indicators,class1_indicators\n",
        "  else:\n",
        "    return avg_score,class1_indicators,class0_indicators\n",
        "\n",
        "def runEvaluation(X,y,vocab):\n",
        "  print(\"----------L1 Norm-----------\")\n",
        "  avg_score,pos_indicators,neg_indicators = evaluateModel(X,y,vocab,\"l1\")\n",
        "  print(\"The model's average accuracy is %f\"%avg_score)\n",
        "  print(\"The most informative terms for pos are: %s\"%pos_indicators)\n",
        "  print(\"The most informative terms for neg are: %s\"%neg_indicators)\n",
        "  #this call will fit a model with L2 normalization\n",
        "  print(\"----------L2 Norm-----------\")\n",
        "  avg_score,pos_indicators,neg_indicators = evaluateModel(X,y,vocab,\"l2\")\n",
        "  print(\"The model's average accuracy is %f\"%avg_score)\n",
        "  print(\"The most informative terms for pos are: %s\"%pos_indicators)\n",
        "  print(\"The most informative terms for neg are: %s\"%neg_indicators)"
      ],
      "execution_count": null,
      "outputs": []
    },
    {
      "cell_type": "code",
      "metadata": {
        "id": "VWWq5VgmECKV"
      },
      "source": [
        "corpus = readReviews()"
      ],
      "execution_count": null,
      "outputs": []
    },
    {
      "cell_type": "markdown",
      "metadata": {
        "id": "72OUet02TjBo"
      },
      "source": [
        "Run the following to train and evaluate two models using basic features:"
      ]
    },
    {
      "cell_type": "code",
      "metadata": {
        "id": "4IpJ7PKjvc8I",
        "colab": {
          "base_uri": "https://localhost:8080/"
        },
        "outputId": "df11e9c8-f1b6-4989-8b13-9e5fdcc11d33"
      },
      "source": [
        "X,y,vocab = createBasicFeatures(corpus)\n",
        "runEvaluation(X, y, vocab)"
      ],
      "execution_count": null,
      "outputs": [
        {
          "output_type": "stream",
          "text": [
            "----------L1 Norm-----------\n",
            "The model's average accuracy is 0.816500\n",
            "The most informative terms for pos are: ['memorable', 'wonderfully', 'flaws', 'terrific', 'others', 'visually', 'hilarious', 'flawed', 'class', 'surprised', 'equally', 'color', 'pace', 'excellent', 'solid', 'today', 'perfectly', 'allows', 'overall', 'breathtaking']\n",
            "The most informative terms for neg are: ['awful', 'mess', 'worst', 'waste', 'lame', 'laughable', 'boring', 'tedious', 'headed', 'cheap', 'titular', 'ridiculous', 'adam', 'supposed', 'potential', 'embarrassing', 'poor', 'nothing', 'terrible', 'alternate']\n",
            "----------L2 Norm-----------\n",
            "The model's average accuracy is 0.855500\n",
            "The most informative terms for pos are: ['memorable', 'others', 'fun', 'hilarious', 'terrific', 'excellent', 'performances', 'true', 'pace', 'overall', 'very', 'wonderfully', 'sometimes', 'great', 'flaws', 'especially', 'well', 'american', 'perfectly', 'best']\n",
            "The most informative terms for neg are: ['bad', 'worst', 'nothing', 'awful', 'waste', 'unfortunately', 'script', 'boring', 'poor', 'supposed', 'plot', 'mess', 'only', 'have', 'ridiculous', 'lame', 'should', 'wasted', 'anyway', 'maybe']\n"
          ],
          "name": "stdout"
        }
      ]
    },
    {
      "cell_type": "markdown",
      "metadata": {
        "id": "4sjxLL2PTrJi"
      },
      "source": [
        "Run the following to train and evaluate two models using extended features:"
      ]
    },
    {
      "cell_type": "code",
      "metadata": {
        "id": "1iHudrPb5NPY",
        "colab": {
          "base_uri": "https://localhost:8080/"
        },
        "outputId": "39d63229-a33c-44cc-cc58-743ebe47af0e"
      },
      "source": [
        "X,y,vocab = createFancyFeatures(corpus)\n",
        "runEvaluation(X, y, vocab)"
      ],
      "execution_count": null,
      "outputs": [
        {
          "output_type": "stream",
          "text": [
            "----------L1 Norm-----------\n",
            "The model's average accuracy is 0.820500\n",
            "The most informative terms for pos are: ['memorable', 'terrific', 'wonderfully', 'flaws', 'hilarious', 'pace', 'visually', 'help of', 'equally', 'even if', 'others', 'overall', 'perfectly', 'thanks to', 'edge', 'history', 'deserves', 'films the', 'allows', 'sometimes']\n",
            "The most informative terms for neg are: ['awful', 'mess', 'worst', 'boring', 'ridiculous', 'lame', 'headed', 'flat', 'unfortunately', 'studio', 'laughable', 'poor', 'to work', 'embarrassing', 'terrible', 'potential', 'ends up', 'nothing', 'bland', 'have']\n",
            "----------L2 Norm-----------\n",
            "The model's average accuracy is 0.872000\n",
            "The most informative terms for pos are: ['very', 'great', 'he is', 'hilarious', 'well', 'also', 'fun', 'others', 'but it', 'performances', 'memorable', 'many', 'both', 'one of', 'seen', 'yet', 'as the', 'terrific', 'and it', 'overall']\n",
            "The most informative terms for neg are: ['bad', 'nothing', 'worst', 'plot', 'unfortunately', 'boring', 'script', 'have', 'only', 'waste', 'awful', 'poor', 'the only', 'mess', 'supposed', 'should have', 'the worst', 'ridiculous', 'should', 'supposed to']\n"
          ],
          "name": "stdout"
        }
      ]
    }
  ]
}