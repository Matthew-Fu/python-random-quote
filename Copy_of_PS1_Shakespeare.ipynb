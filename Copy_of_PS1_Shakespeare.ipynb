{
  "nbformat": 4,
  "nbformat_minor": 0,
  "metadata": {
    "colab": {
      "name": "Copy of PS1-Shakespeare.ipynb",
      "provenance": [],
      "collapsed_sections": [],
      "include_colab_link": true
    },
    "kernelspec": {
      "name": "python3",
      "display_name": "Python 3"
    }
  },
  "cells": [
    {
      "cell_type": "markdown",
      "metadata": {
        "id": "view-in-github",
        "colab_type": "text"
      },
      "source": [
        "<a href=\"https://colab.research.google.com/github/Matthew-Fu/python-random-quote/blob/master/Copy_of_PS1_Shakespeare.ipynb\" target=\"_parent\"><img src=\"https://colab.research.google.com/assets/colab-badge.svg\" alt=\"Open In Colab\"/></a>"
      ]
    },
    {
      "cell_type": "markdown",
      "metadata": {
        "id": "ghmXbcymaHxC"
      },
      "source": [
        "In this experiment, you will train models to distringuish examples of two different genres of Shakespeare's plays: comedies and tragedies. (We'll ignore the histories, sonnets, etc.) Since he died four hundred years ago, Shakespeare has not written any more plays—although scraps of various other works have come to light. We are not, therefore, interested in building models simply to help categorize an unbounded stream of future documents, as we might be in other applications of text classification; rather, we are interested in what a classifier might have to tell us about what we mean by the terms “comedy” and “tragedy”.\n",
        "\n",
        "You will start by copying and running your `createBasicFeatures` function from the experiment with movie reviews. Do the features the classifier focuses on tell you much about comedy and tragedy in general?\n",
        "\n",
        "You will then implement another featurization function `createInterestingFeatures`, which will focus on only those features you think are informative for distinguishing between comedy and tragedy. Accuracy on leave-one-out cross-validation may go up, but it more important to look at the features given the highest weight by the classifier. Interpretability in machine learning, of course, may be harder to define than accuracy—although accuracy at some tasks such as summarization is hard enoough."
      ]
    },
    {
      "cell_type": "code",
      "metadata": {
        "id": "AdVS67_HNRmW"
      },
      "source": [
        "import json\n",
        "import requests\n",
        "from sklearn.linear_model import LogisticRegression\n",
        "from sklearn.model_selection import cross_validate,LeaveOneOut\n",
        "import numpy as np\n",
        "from sklearn.feature_extraction.text import CountVectorizer,TfidfVectorizer\n",
        "import seaborn as sns\n",
        "from nltk.tokenize import TweetTokenizer\n",
        "from nltk.corpus import stopwords "
      ],
      "execution_count": 9,
      "outputs": []
    },
    {
      "cell_type": "code",
      "metadata": {
        "id": "PzjMY8fYQbB6"
      },
      "source": [
        "#read in the shakespeare corpus\n",
        "def readShakespeare():\n",
        "  raw = requests.get(\"https://raw.githubusercontent.com/mutherr/CS6120-PS1-data/master/shakespeare_plays.json\").text.strip()\n",
        "  corpus = [json.loads(line) for line in raw.split(\"\\n\")]\n",
        "\n",
        "  #remove histories from the data, as we're only working with tragedies and comedies\n",
        "  corpus = [entry for entry in corpus if entry[\"genre\"] != \"history\"]\n",
        "  return corpus"
      ],
      "execution_count": 10,
      "outputs": []
    },
    {
      "cell_type": "markdown",
      "metadata": {
        "id": "v0r3oL3TdHIU"
      },
      "source": [
        "This is where you will implement two functions to featurize the data:"
      ]
    },
    {
      "cell_type": "code",
      "metadata": {
        "id": "039fPQcF7OkN"
      },
      "source": [
        "#NB: The current contents are for testing only\n",
        "#This function should return: \n",
        "#  -a sparse numpy matrix of document features\n",
        "#  -a list of the correct genre for each document\n",
        "#  -a list of the vocabulary used by the features, such that the ith term of the\n",
        "#    list is the word whose counts appear in the ith column of the matrix. \n",
        "\n",
        "# This function should create a feature representation using all tokens that\n",
        "# contain an alphabetic character.\n",
        "def createBasicFeatures(corpus):\n",
        "  #Your code here\n",
        "  genres = []\n",
        "  raw_text = []\n",
        "  for cor in corpus:\n",
        "    genres.append(cor[\"genre\"])\n",
        "    raw_text.append(cor[\"text\"])\n",
        "  tfidf_vectorizer = TfidfVectorizer()\n",
        "  texts = tfidf_vectorizer.fit_transform(raw_text).toarray()\n",
        "  #text = u\" \".join(raw_text)\n",
        "  #tokenizer = TweetTokenizer()\n",
        "  #vocab = tokenizer.tokenize(text.lower())\n",
        "  vocab = tfidf_vectorizer.get_feature_names()\n",
        "  return texts,genres,vocab\n",
        "\n",
        "# This function can add other features you want that help classification\n",
        "# accuracy, such as bigrams, word prefixes and suffixes, etc.\n",
        "def createInterestingFeatures(corpus):\n",
        "  #Your code here\n",
        "  genres = []\n",
        "  raw_text = []\n",
        "  for cor in corpus:\n",
        "    genres.append(cor[\"genre\"])\n",
        "    raw_text.append(cor[\"text\"])\n",
        "  tfidf_vectorizer = TfidfVectorizer(stop_words = 'english', max_df = 0.7, max_features = 19)\n",
        "  texts = tfidf_vectorizer.fit_transform(raw_text).toarray()\n",
        "  #text = u\" \".join(raw_text)\n",
        "  #tokenizer = TweetTokenizer()\n",
        "  #vocab = tokenizer.tokenize(text.lower())\n",
        "  vocab = tfidf_vectorizer.get_feature_names()\n",
        "  return texts,genres,vocab"
      ],
      "execution_count": 129,
      "outputs": []
    },
    {
      "cell_type": "code",
      "metadata": {
        "id": "KfTBqBltXe7Y"
      },
      "source": [
        "#given a numpy matrix representation of the features for the training set, the \n",
        "# vector of true classes for each example, and the vocabulary as described \n",
        "# above, this computes the accuracy of the model using leave one out cross \n",
        "# validation and reports the most indicative features for each class\n",
        "def evaluateModel(X,y,vocab,penalty=\"l1\"):\n",
        "  #create and fit the model\n",
        "  model = LogisticRegression(penalty=penalty,solver=\"liblinear\")\n",
        "  results = cross_validate(model,X,y,cv=LeaveOneOut())\n",
        "  \n",
        "  #determine the average accuracy\n",
        "  scores = results[\"test_score\"]\n",
        "  avg_score = sum(scores)/len(scores)\n",
        "  \n",
        "  #determine the most informative features\n",
        "  # this requires us to fit the model to everything, because we need a\n",
        "  # single model to draw coefficients from, rather than 26\n",
        "  model.fit(X,y)\n",
        "  neg_class_prob_sorted = model.coef_[0, :].argsort()\n",
        "  pos_class_prob_sorted = (-model.coef_[0, :]).argsort()\n",
        "\n",
        "  termsToTake = 20\n",
        "  pos_indicators = [vocab[i] for i in neg_class_prob_sorted[:termsToTake]]\n",
        "  neg_indicators = [vocab[i] for i in pos_class_prob_sorted[:termsToTake]]\n",
        "\n",
        "  return avg_score,pos_indicators,neg_indicators\n",
        "\n",
        "def runEvaluation(X,y,vocab):\n",
        "  print(\"----------L1 Norm-----------\")\n",
        "  avg_score,pos_indicators,neg_indicators = evaluateModel(X,y,vocab,\"l1\")\n",
        "  print(\"The model's average accuracy is %f\"%avg_score)\n",
        "  print(\"The most informative terms for pos are: %s\"%pos_indicators)\n",
        "  print(\"The most informative terms for neg are: %s\"%neg_indicators)\n",
        "  #this call will fit a model with L2 normalization\n",
        "  print(\"----------L2 Norm-----------\")\n",
        "  avg_score,pos_indicators,neg_indicators = evaluateModel(X,y,vocab,\"l2\")\n",
        "  print(\"The model's average accuracy is %f\"%avg_score)\n",
        "  print(\"The most informative terms for pos are: %s\"%pos_indicators)\n",
        "  print(\"The most informative terms for neg are: %s\"%neg_indicators)\n",
        "  "
      ],
      "execution_count": 11,
      "outputs": []
    },
    {
      "cell_type": "code",
      "metadata": {
        "id": "mtlbg_aqdcW_"
      },
      "source": [
        "corpus = readShakespeare()"
      ],
      "execution_count": 12,
      "outputs": []
    },
    {
      "cell_type": "markdown",
      "metadata": {
        "id": "vpCqIhiqdhen"
      },
      "source": [
        "Run the following to train and evaluate two models with basic features:"
      ]
    },
    {
      "cell_type": "code",
      "metadata": {
        "id": "4IpJ7PKjvc8I",
        "colab": {
          "base_uri": "https://localhost:8080/"
        },
        "outputId": "de99a833-8b4f-4e31-ddfe-8e4a0a1ad3c1"
      },
      "source": [
        "X,y,vocab = createBasicFeatures(corpus)\n",
        "runEvaluation(X, y, vocab)"
      ],
      "execution_count": 103,
      "outputs": [
        {
          "output_type": "stream",
          "text": [
            "----------L1 Norm-----------\n",
            "The model's average accuracy is 0.538462\n",
            "The most informative terms for pos are: ['10', 'pressing', 'presses', 'pressed', 'press', 'president', 'preserving', 'preservers', 'preserver', 'preserved', 'preserve', 'preservative', 'preservation', 'preserv', 'presents', 'presentment', 'pressure', 'presently', 'pressures', 'prester']\n",
            "The most informative terms for neg are: ['10', 'pressing', 'presses', 'pressed', 'press', 'president', 'preserving', 'preservers', 'preserver', 'preserved', 'preserve', 'preservative', 'preservation', 'preserv', 'presents', 'presentment', 'pressure', 'presently', 'pressures', 'prester']\n",
            "----------L2 Norm-----------\n",
            "The model's average accuracy is 0.538462\n",
            "The most informative terms for pos are: ['you', 'rosalind', 'proteus', 'sir', 'duke', 'syracuse', 'ford', 'dromio', 'antipholus', 'prospero', 'toby', 'berowne', 'petruchio', 'helena', 'parolles', 'angelo', 'antonio', 'mrs', 'julia', 'falstaff']\n",
            "The most informative terms for neg are: ['timon', 'antony', 'macbeth', 'brutus', 'ham', 'caesar', 'iago', 'othello', 'lear', 'cassius', 'lucius', 'titus', 'cassio', 'cleopatra', 'rom', 'romeo', 'menenius', 'kent', 'desdemona', 'rome']\n"
          ],
          "name": "stdout"
        }
      ]
    },
    {
      "cell_type": "markdown",
      "metadata": {
        "id": "_FmW9F6ZdoyM"
      },
      "source": [
        "Run the following to train and evaluate two models with features that are interesting for distinguishing comedy and tragedy:"
      ]
    },
    {
      "cell_type": "code",
      "metadata": {
        "id": "BW0Ajs2MdtIC",
        "colab": {
          "base_uri": "https://localhost:8080/"
        },
        "outputId": "b23519c1-4e4f-4909-b67d-f2b184b2919b"
      },
      "source": [
        "X,y,vocab = createInterestingFeatures(corpus)\n",
        "runEvaluation(X, y, vocab)"
      ],
      "execution_count": 130,
      "outputs": [
        {
          "output_type": "stream",
          "text": [
            "----------L1 Norm-----------\n",
            "The model's average accuracy is 0.807692\n",
            "The most informative terms for pos are: ['antonio', 'duke', 'clown', 'rosalind', 'rome', 'page', 'othello', 'macbeth', 'lucius', 'iago', 'ham', 'ford', 'cleopatra', 'cassio', 'caesar', 'brutus', 'antony', 'timon', 'troilus']\n",
            "The most informative terms for neg are: ['ham', 'rosalind', 'rome', 'page', 'othello', 'macbeth', 'lucius', 'iago', 'timon', 'troilus', 'cleopatra', 'cassio', 'caesar', 'brutus', 'antony', 'ford', 'clown', 'duke', 'antonio']\n",
            "----------L2 Norm-----------\n",
            "The model's average accuracy is 0.846154\n",
            "The most informative terms for pos are: ['antonio', 'duke', 'clown', 'rosalind', 'page', 'ford', 'cassio', 'othello', 'iago', 'antony', 'troilus', 'timon', 'cleopatra', 'caesar', 'macbeth', 'ham', 'rome', 'brutus', 'lucius']\n",
            "The most informative terms for neg are: ['lucius', 'brutus', 'rome', 'ham', 'macbeth', 'caesar', 'cleopatra', 'timon', 'troilus', 'antony', 'iago', 'othello', 'cassio', 'ford', 'page', 'rosalind', 'clown', 'duke', 'antonio']\n"
          ],
          "name": "stdout"
        }
      ]
    },
    {
      "cell_type": "code",
      "metadata": {
        "id": "1iHudrPb5NPY"
      },
      "source": [
        ""
      ],
      "execution_count": null,
      "outputs": []
    }
  ]
}